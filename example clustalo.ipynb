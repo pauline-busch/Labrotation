{
 "cells": [
  {
   "cell_type": "code",
   "execution_count": 8,
   "metadata": {
    "jupyter": {
     "outputs_hidden": false
    }
   },
   "outputs": [],
   "source": [
    "%matplotlib inline"
   ]
  },
  {
   "cell_type": "markdown",
   "metadata": {},
   "source": [
    "\n",
    "Conservation of *LexA* DNA-binding site\n",
    "=======================================\n",
    "\n",
    "The web page on sequence logos on\n",
    "`Wikipedia <https://en.wikipedia.org/wiki/Sequence_logo#Consensus_logo>`_\n",
    "shows the sequence logo of the *LexA*-binding motif of Gram-positive\n",
    "bacteria. In this example we look at the other side: What is the\n",
    "amino acid sequence logo of the DNA-binding site of the LexA repressor?\n",
    "\n",
    "We start by searching the NCBI Entrez database for *lexA* gene\n",
    "entries in the UniProtKB database and downloading them afterwards as\n",
    "GenPept file.\n",
    "In order to ensure that the file contains the desired entries, we check\n",
    "the entires for their definition (title) and source (species).\n"
   ]
  },
  {
   "cell_type": "code",
   "execution_count": 9,
   "metadata": {
    "jupyter": {
     "outputs_hidden": false
    }
   },
   "outputs": [
    {
     "name": "stdout",
     "output_type": "stream",
     "text": [
      "Definitions:\n",
      "RecName: Full=LexA repressor.\n",
      "RecName: Full=LexA repressor.\n",
      "RecName: Full=LexA repressor.\n",
      "RecName: Full=LexA repressor.\n",
      "RecName: Full=LexA repressor.\n",
      "RecName: Full=LexA repressor.\n",
      "RecName: Full=LexA repressor.\n",
      "RecName: Full=LexA repressor.\n",
      "RecName: Full=LexA repressor.\n",
      "RecName: Full=LexA repressor.\n",
      "RecName: Full=LexA repressor.\n",
      "RecName: Full=LexA repressor.\n",
      "RecName: Full=LexA repressor.\n",
      "RecName: Full=LexA repressor.\n",
      "RecName: Full=LexA repressor.\n",
      "RecName: Full=LexA repressor.\n",
      "RecName: Full=LexA repressor.\n",
      "RecName: Full=LexA repressor.\n",
      "RecName: Full=LexA repressor.\n",
      "RecName: Full=LexA repressor.\n",
      "\n",
      "Sources:\n",
      "Salmonella enterica subsp. enterica serovar Typhimurium str. LT2\n",
      "Fibrobacter succinogenes subsp. succinogenes S85\n",
      "Salmonella enterica subsp. arizonae serovar 62:z4,z23:-\n",
      "Actinobacillus pleuropneumoniae serovar 5b str. L20\n",
      "Lactobacillus sakei subsp. sakei 23K\n",
      "Staphylococcus aureus subsp. aureus NCTC 8325\n",
      "Salmonella enterica subsp. enterica serovar Typhi (Salmonella\n",
      "Zymomonas mobilis subsp. mobilis ZM4 = ATCC 31821\n",
      "Mycobacterium tuberculosis H37Rv\n",
      "Clostridioides difficile 630 (Clostridium difficile 630)\n",
      "Mycobacterium tuberculosis variant bovis AF2122/97\n",
      "Edwardsiella ictaluri 93-146\n",
      "Escherichia coli BW2952\n",
      "Desulfatibacillum aliphaticivorans\n",
      "Vibrio cholerae M66-2\n",
      "Escherichia coli 55989\n",
      "Escherichia coli O127:H6 str. E2348/69\n",
      "Desulfitobacterium hafniense DCB-2\n",
      "Clostridium botulinum A2 str. Kyoto\n",
      "Ralstonia pickettii 12J\n"
     ]
    }
   ],
   "source": [
    "# Code source: Patrick Kunzmann\n",
    "# License: BSD 3 clause\n",
    "\n",
    "import numpy as np\n",
    "import matplotlib.pyplot as plt\n",
    "import biotite.sequence as seq\n",
    "import biotite.sequence.io.fasta as fasta\n",
    "import biotite.sequence.io.genbank as gb\n",
    "import biotite.sequence.graphics as graphics\n",
    "import biotite.application.clustalo as clustalo\n",
    "import biotite.database.entrez as entrez\n",
    "# Search for protein products of LexA gene in UniProtKB/Swiss-Prot database\n",
    "query =   entrez.SimpleQuery(\"lexA\", \"Gene Name\") \\\n",
    "        & entrez.SimpleQuery(\"srcdb_swiss-prot\", \"Properties\")\n",
    "# Search for the first 200 hits\n",
    "# More than 200 UIDs are not recommended for the EFetch service\n",
    "# for a single fetch\n",
    "uids = entrez.search(query, db_name=\"protein\", number=200)\n",
    "file = entrez.fetch_single_file(\n",
    "    uids, None, db_name=\"protein\", ret_type=\"gp\"\n",
    ")\n",
    "# The file contains multiple concatenated GenPept files\n",
    "# -> Usage of MultiFile\n",
    "multi_file = gb.MultiFile.read(file)\n",
    "# Separate MultiFile into single GenBankFile instances\n",
    "files = [f for f in multi_file]\n",
    "print(\"Definitions:\")\n",
    "for file in files[:20]:\n",
    "    print(gb.get_definition(file))\n",
    "print()\n",
    "print(\"Sources:\")\n",
    "for file in files[:20]:\n",
    "    print(gb.get_source(file))"
   ]
  },
  {
   "cell_type": "markdown",
   "metadata": {},
   "source": [
    "The names of the sources are too long to be properly displayed later\n",
    "on. Therefore, we write a function that creates a proper abbreviation\n",
    "for a species name.\n",
    "\n"
   ]
  },
  {
   "cell_type": "code",
   "execution_count": 10,
   "metadata": {
    "jupyter": {
     "outputs_hidden": false
    }
   },
   "outputs": [
    {
     "name": "stdout",
     "output_type": "stream",
     "text": [
      "Sources:\n",
      "S. enterica\n",
      "F. succinogenes\n",
      "S. enterica\n",
      "A. pleuropneumoniae\n",
      "L. sakei\n",
      "S. aureus\n",
      "S. enterica\n",
      "Z. mobilis\n",
      "M. tuberculosis\n",
      "C. difficile\n",
      "M. tuberculosis\n",
      "E. ictaluri\n",
      "E. coli\n",
      "D. aliphaticivorans\n",
      "V. cholerae\n",
      "E. coli\n",
      "E. coli\n",
      "D. hafniense\n",
      "C. botulinum\n",
      "R. pickettii\n"
     ]
    }
   ],
   "source": [
    "def abbreviate(species):\n",
    "    # Remove possible brackets\n",
    "    species = species.replace(\"[\",\"\").replace(\"]\",\"\")\n",
    "    splitted_species= species.split()\n",
    "    return \"{:}. {:}\".format(splitted_species[0][0], splitted_species[1])\n",
    "\n",
    "print(\"Sources:\")\n",
    "all_sources = [abbreviate(gb.get_source(file)) for file in files]\n",
    "for source in all_sources[:20]:\n",
    "    print(source)"
   ]
  },
  {
   "cell_type": "markdown",
   "metadata": {},
   "source": [
    "Much better.\n",
    "For the alignment (required for sequence logo) we need to extract the\n",
    "slice of the sequence, that belongs to the DNA-binding site.\n",
    "Hence, we simply index the each sequence with the feature for the\n",
    "binding site and remove those sequences, that do not have a record\n",
    "specifying the required feature.\n",
    "\n",
    "But we have still an issue:\n",
    "Some species seem to be overrepresented, as they show up multiple\n",
    "times.\n",
    "The reason for this is that some species, like *M. tuberculosis*, are\n",
    "represented by multiple strains with (almost) equal *LexA* sequences.\n",
    "To reduce this bias, we only want each species to occur only a single\n",
    "time.\n",
    "So we use a set to store the source name of sequences we already\n",
    "listed and ignore all further occurences of that source species. \n",
    "\n"
   ]
  },
  {
   "cell_type": "code",
   "execution_count": 11,
   "metadata": {
    "jupyter": {
     "outputs_hidden": false
    },
    "scrolled": true
   },
   "outputs": [
    {
     "name": "stdout",
     "output_type": "stream",
     "text": [
      "Binding sites:\n",
      "RAEIAQRLGFRSPNAAEEHLK\n",
      "VREIGNHFDISSTNGVRSILA\n",
      "RVEIAREIGFKSPNAAEEHLK\n",
      "VREICEAVNLSSTSTVHGHLA\n",
      "VREIGEAVGLASSSTVHGHLS\n",
      "FEEMKLALDLKSKSGIHRLIK\n",
      "IREIGDAVGLTSTSSVAHQLR\n",
      "VREICTAVGLRSTSTVHSHLN\n",
      "RAEIAQRLGFRSPNAAEEHLK\n",
      "RAEIAQRLGFRSPNAAEEHLK\n",
      "VRELCDELGFKSPNTAHFHLK\n",
      "RAEIAKELGFRSANAAEEHLK\n",
      "VREIGDAVGLMSSSTVHGHLQ\n",
      "VREICKAVGLSSTSSVHFHLK\n",
      "RAEIAAEFGFSSPNAAEEHLR\n",
      "RAEIASQLGFRSPNAAEEHLK\n",
      "VREIGKSVGLSSSSTVAAYLE\n",
      "VREIGEAVGLASSSTVHGHLD\n",
      "RAEIARQLGFRSANAAEEHLK\n",
      "QTEIARAFGFKGVRAVQHHLD\n"
     ]
    }
   ],
   "source": [
    "# List of sequences\n",
    "binding_sites = []\n",
    "# List of source species\n",
    "sources = []\n",
    "# Set for ignoring already listed sources\n",
    "listed_sources = set()\n",
    "for file, source in zip(files, all_sources):\n",
    "    if source in listed_sources:\n",
    "        # Ignore already listed species\n",
    "        continue\n",
    "    bind_feature = None\n",
    "    annot_seq = gb.get_annotated_sequence(\n",
    "        file, include_only=[\"Site\"], format=\"gp\"\n",
    "    )\n",
    "    # Find the feature for DNA-binding site\n",
    "    for feature in annot_seq.annotation:\n",
    "        # DNA binding site is a helix-turn-helix motif\n",
    "        if \"site_type\" in feature.qual \\\n",
    "            and feature.qual[\"site_type\"] == \"DNA binding\" \\\n",
    "            and \"H-T-H motif\" in feature.qual[\"note\"]:\n",
    "                bind_feature = feature\n",
    "    if bind_feature is not None:\n",
    "        # If the feature is found,\n",
    "        # get the sequence slice that is defined by the feature...\n",
    "        binding_sites.append(annot_seq[bind_feature])\n",
    "        # ...and save the respective source species\n",
    "        sources.append(source)\n",
    "        listed_sources.add(source)\n",
    "print(\"Binding sites:\")\n",
    "for site in binding_sites[:20]:\n",
    "    print(site)"
   ]
  },
  {
   "cell_type": "markdown",
   "metadata": {},
   "source": [
    "Now we can perform a multiple sequence alignment of the binding site\n",
    "sequences. Here we use Clustal Omega to perform this task.\n",
    "Since we have up to 200 sequences we visualize only a small portion of\n",
    "the alignment.\n",
    "\n"
   ]
  },
  {
   "cell_type": "code",
   "execution_count": 12,
   "metadata": {
    "jupyter": {
     "outputs_hidden": false
    },
    "scrolled": true
   },
   "outputs": [
    {
     "ename": "SubprocessError",
     "evalue": "'C:/Users/Rickman/Downloads/clustal-omega-1.2.2-win64/clustal-omega-1.2.2-win64/clustalo.exe' returned with exit code 1: FATAL: Sorry, I do not have permission to write to file 'C:\\Users\\Rickman\\AppData\\Local\\Temp\\tmpzfmi04sj.tree'. ",
     "output_type": "error",
     "traceback": [
      "\u001b[1;31m---------------------------------------------------------------------------\u001b[0m",
      "\u001b[1;31mSubprocessError\u001b[0m                           Traceback (most recent call last)",
      "\u001b[1;32m<ipython-input-12-1b508dc62039>\u001b[0m in \u001b[0;36m<module>\u001b[1;34m\u001b[0m\n\u001b[1;32m----> 1\u001b[1;33m \u001b[0malignment\u001b[0m \u001b[1;33m=\u001b[0m \u001b[0mclustalo\u001b[0m\u001b[1;33m.\u001b[0m\u001b[0mClustalOmegaApp\u001b[0m\u001b[1;33m.\u001b[0m\u001b[0malign\u001b[0m\u001b[1;33m(\u001b[0m\u001b[0mbinding_sites\u001b[0m\u001b[1;33m,\u001b[0m \u001b[0mbin_path\u001b[0m\u001b[1;33m=\u001b[0m\u001b[1;34m'C:/Users/Rickman/Downloads/clustal-omega-1.2.2-win64/clustal-omega-1.2.2-win64/clustalo.exe'\u001b[0m\u001b[1;33m,\u001b[0m \u001b[0mmatrix\u001b[0m\u001b[1;33m=\u001b[0m\u001b[1;32mNone\u001b[0m\u001b[1;33m)\u001b[0m\u001b[1;33m\u001b[0m\u001b[1;33m\u001b[0m\u001b[0m\n\u001b[0m\u001b[0;32m      2\u001b[0m \u001b[0mfig\u001b[0m \u001b[1;33m=\u001b[0m \u001b[0mplt\u001b[0m\u001b[1;33m.\u001b[0m\u001b[0mfigure\u001b[0m\u001b[1;33m(\u001b[0m\u001b[0mfigsize\u001b[0m\u001b[1;33m=\u001b[0m\u001b[1;33m(\u001b[0m\u001b[1;36m4.5\u001b[0m\u001b[1;33m,\u001b[0m \u001b[1;36m4.0\u001b[0m\u001b[1;33m)\u001b[0m\u001b[1;33m)\u001b[0m\u001b[1;33m\u001b[0m\u001b[1;33m\u001b[0m\u001b[0m\n\u001b[0;32m      3\u001b[0m \u001b[0max\u001b[0m \u001b[1;33m=\u001b[0m \u001b[0mfig\u001b[0m\u001b[1;33m.\u001b[0m\u001b[0madd_subplot\u001b[0m\u001b[1;33m(\u001b[0m\u001b[1;36m111\u001b[0m\u001b[1;33m)\u001b[0m\u001b[1;33m\u001b[0m\u001b[1;33m\u001b[0m\u001b[0m\n\u001b[0;32m      4\u001b[0m graphics.plot_alignment_similarity_based(\n\u001b[0;32m      5\u001b[0m     \u001b[0max\u001b[0m\u001b[1;33m,\u001b[0m \u001b[0malignment\u001b[0m\u001b[1;33m[\u001b[0m\u001b[1;33m:\u001b[0m\u001b[1;33m,\u001b[0m\u001b[1;33m:\u001b[0m\u001b[1;36m20\u001b[0m\u001b[1;33m]\u001b[0m\u001b[1;33m,\u001b[0m \u001b[0mlabels\u001b[0m\u001b[1;33m=\u001b[0m\u001b[0msources\u001b[0m\u001b[1;33m[\u001b[0m\u001b[1;33m:\u001b[0m\u001b[1;36m20\u001b[0m\u001b[1;33m]\u001b[0m\u001b[1;33m,\u001b[0m \u001b[0msymbols_per_line\u001b[0m\u001b[1;33m=\u001b[0m\u001b[0mlen\u001b[0m\u001b[1;33m(\u001b[0m\u001b[0malignment\u001b[0m\u001b[1;33m)\u001b[0m\u001b[1;33m\u001b[0m\u001b[1;33m\u001b[0m\u001b[0m\n",
      "\u001b[1;32mC:\\Python38\\lib\\site-packages\\biotite\\application\\msaapp.py\u001b[0m in \u001b[0;36malign\u001b[1;34m(cls, sequences, bin_path, matrix)\u001b[0m\n\u001b[0;32m    397\u001b[0m             \u001b[0mapp\u001b[0m \u001b[1;33m=\u001b[0m \u001b[0mcls\u001b[0m\u001b[1;33m(\u001b[0m\u001b[0msequences\u001b[0m\u001b[1;33m,\u001b[0m \u001b[0mbin_path\u001b[0m\u001b[1;33m,\u001b[0m \u001b[0mmatrix\u001b[0m\u001b[1;33m=\u001b[0m\u001b[0mmatrix\u001b[0m\u001b[1;33m)\u001b[0m\u001b[1;33m\u001b[0m\u001b[1;33m\u001b[0m\u001b[0m\n\u001b[0;32m    398\u001b[0m         \u001b[0mapp\u001b[0m\u001b[1;33m.\u001b[0m\u001b[0mstart\u001b[0m\u001b[1;33m(\u001b[0m\u001b[1;33m)\u001b[0m\u001b[1;33m\u001b[0m\u001b[1;33m\u001b[0m\u001b[0m\n\u001b[1;32m--> 399\u001b[1;33m         \u001b[0mapp\u001b[0m\u001b[1;33m.\u001b[0m\u001b[0mjoin\u001b[0m\u001b[1;33m(\u001b[0m\u001b[1;33m)\u001b[0m\u001b[1;33m\u001b[0m\u001b[1;33m\u001b[0m\u001b[0m\n\u001b[0m\u001b[0;32m    400\u001b[0m         \u001b[1;32mreturn\u001b[0m \u001b[0mapp\u001b[0m\u001b[1;33m.\u001b[0m\u001b[0mget_alignment\u001b[0m\u001b[1;33m(\u001b[0m\u001b[1;33m)\u001b[0m\u001b[1;33m\u001b[0m\u001b[1;33m\u001b[0m\u001b[0m\n",
      "\u001b[1;32mC:\\Python38\\lib\\site-packages\\biotite\\application\\application.py\u001b[0m in \u001b[0;36mwrapper\u001b[1;34m(*args, **kwargs)\u001b[0m\n\u001b[0;32m     56\u001b[0m                     \u001b[1;34mf\"but {app_state} state is required\"\u001b[0m\u001b[1;33m\u001b[0m\u001b[1;33m\u001b[0m\u001b[0m\n\u001b[0;32m     57\u001b[0m                 )\n\u001b[1;32m---> 58\u001b[1;33m             \u001b[1;32mreturn\u001b[0m \u001b[0mfunc\u001b[0m\u001b[1;33m(\u001b[0m\u001b[1;33m*\u001b[0m\u001b[0margs\u001b[0m\u001b[1;33m,\u001b[0m \u001b[1;33m**\u001b[0m\u001b[0mkwargs\u001b[0m\u001b[1;33m)\u001b[0m\u001b[1;33m\u001b[0m\u001b[1;33m\u001b[0m\u001b[0m\n\u001b[0m\u001b[0;32m     59\u001b[0m         \u001b[1;32mreturn\u001b[0m \u001b[0mwrapper\u001b[0m\u001b[1;33m\u001b[0m\u001b[1;33m\u001b[0m\u001b[0m\n\u001b[0;32m     60\u001b[0m     \u001b[1;32mreturn\u001b[0m \u001b[0mdecorator\u001b[0m\u001b[1;33m\u001b[0m\u001b[1;33m\u001b[0m\u001b[0m\n",
      "\u001b[1;32mC:\\Python38\\lib\\site-packages\\biotite\\application\\application.py\u001b[0m in \u001b[0;36mjoin\u001b[1;34m(self, timeout)\u001b[0m\n\u001b[0;32m    151\u001b[0m         \u001b[0mtime\u001b[0m\u001b[1;33m.\u001b[0m\u001b[0msleep\u001b[0m\u001b[1;33m(\u001b[0m\u001b[0mself\u001b[0m\u001b[1;33m.\u001b[0m\u001b[0mwait_interval\u001b[0m\u001b[1;33m(\u001b[0m\u001b[1;33m)\u001b[0m\u001b[1;33m)\u001b[0m\u001b[1;33m\u001b[0m\u001b[1;33m\u001b[0m\u001b[0m\n\u001b[0;32m    152\u001b[0m         \u001b[1;32mtry\u001b[0m\u001b[1;33m:\u001b[0m\u001b[1;33m\u001b[0m\u001b[1;33m\u001b[0m\u001b[0m\n\u001b[1;32m--> 153\u001b[1;33m             \u001b[0mself\u001b[0m\u001b[1;33m.\u001b[0m\u001b[0mevaluate\u001b[0m\u001b[1;33m(\u001b[0m\u001b[1;33m)\u001b[0m\u001b[1;33m\u001b[0m\u001b[1;33m\u001b[0m\u001b[0m\n\u001b[0m\u001b[0;32m    154\u001b[0m         \u001b[1;32mexcept\u001b[0m \u001b[0mAppStateError\u001b[0m\u001b[1;33m:\u001b[0m\u001b[1;33m\u001b[0m\u001b[1;33m\u001b[0m\u001b[0m\n\u001b[0;32m    155\u001b[0m             \u001b[1;32mraise\u001b[0m\u001b[1;33m\u001b[0m\u001b[1;33m\u001b[0m\u001b[0m\n",
      "\u001b[1;32mC:\\Python38\\lib\\site-packages\\biotite\\application\\clustalo\\app.py\u001b[0m in \u001b[0;36mevaluate\u001b[1;34m(self)\u001b[0m\n\u001b[0;32m    111\u001b[0m \u001b[1;33m\u001b[0m\u001b[0m\n\u001b[0;32m    112\u001b[0m     \u001b[1;32mdef\u001b[0m \u001b[0mevaluate\u001b[0m\u001b[1;33m(\u001b[0m\u001b[0mself\u001b[0m\u001b[1;33m)\u001b[0m\u001b[1;33m:\u001b[0m\u001b[1;33m\u001b[0m\u001b[1;33m\u001b[0m\u001b[0m\n\u001b[1;32m--> 113\u001b[1;33m         \u001b[0msuper\u001b[0m\u001b[1;33m(\u001b[0m\u001b[1;33m)\u001b[0m\u001b[1;33m.\u001b[0m\u001b[0mevaluate\u001b[0m\u001b[1;33m(\u001b[0m\u001b[1;33m)\u001b[0m\u001b[1;33m\u001b[0m\u001b[1;33m\u001b[0m\u001b[0m\n\u001b[0m\u001b[0;32m    114\u001b[0m         \u001b[1;32mif\u001b[0m \u001b[1;32mnot\u001b[0m \u001b[0mself\u001b[0m\u001b[1;33m.\u001b[0m\u001b[0m_mbed\u001b[0m\u001b[1;33m:\u001b[0m\u001b[1;33m\u001b[0m\u001b[1;33m\u001b[0m\u001b[0m\n\u001b[0;32m    115\u001b[0m             self._dist_matrix = np.loadtxt(\n",
      "\u001b[1;32mC:\\Python38\\lib\\site-packages\\biotite\\application\\msaapp.py\u001b[0m in \u001b[0;36mevaluate\u001b[1;34m(self)\u001b[0m\n\u001b[0;32m    139\u001b[0m \u001b[1;33m\u001b[0m\u001b[0m\n\u001b[0;32m    140\u001b[0m     \u001b[1;32mdef\u001b[0m \u001b[0mevaluate\u001b[0m\u001b[1;33m(\u001b[0m\u001b[0mself\u001b[0m\u001b[1;33m)\u001b[0m\u001b[1;33m:\u001b[0m\u001b[1;33m\u001b[0m\u001b[1;33m\u001b[0m\u001b[0m\n\u001b[1;32m--> 141\u001b[1;33m         \u001b[0msuper\u001b[0m\u001b[1;33m(\u001b[0m\u001b[1;33m)\u001b[0m\u001b[1;33m.\u001b[0m\u001b[0mevaluate\u001b[0m\u001b[1;33m(\u001b[0m\u001b[1;33m)\u001b[0m\u001b[1;33m\u001b[0m\u001b[1;33m\u001b[0m\u001b[0m\n\u001b[0m\u001b[0;32m    142\u001b[0m         \u001b[0malignment_file\u001b[0m \u001b[1;33m=\u001b[0m \u001b[0mFastaFile\u001b[0m\u001b[1;33m.\u001b[0m\u001b[0mread\u001b[0m\u001b[1;33m(\u001b[0m\u001b[0mself\u001b[0m\u001b[1;33m.\u001b[0m\u001b[0m_out_file\u001b[0m\u001b[1;33m)\u001b[0m\u001b[1;33m\u001b[0m\u001b[1;33m\u001b[0m\u001b[0m\n\u001b[0;32m    143\u001b[0m         \u001b[0mseq_dict\u001b[0m \u001b[1;33m=\u001b[0m \u001b[0mOrderedDict\u001b[0m\u001b[1;33m(\u001b[0m\u001b[0malignment_file\u001b[0m\u001b[1;33m)\u001b[0m\u001b[1;33m\u001b[0m\u001b[1;33m\u001b[0m\u001b[0m\n",
      "\u001b[1;32mC:\\Python38\\lib\\site-packages\\biotite\\application\\localapp.py\u001b[0m in \u001b[0;36mevaluate\u001b[1;34m(self)\u001b[0m\n\u001b[0;32m    234\u001b[0m         \u001b[1;32mif\u001b[0m \u001b[0mexit_code\u001b[0m \u001b[1;33m!=\u001b[0m \u001b[1;36m0\u001b[0m\u001b[1;33m:\u001b[0m\u001b[1;33m\u001b[0m\u001b[1;33m\u001b[0m\u001b[0m\n\u001b[0;32m    235\u001b[0m             \u001b[0merr_msg\u001b[0m \u001b[1;33m=\u001b[0m \u001b[0mself\u001b[0m\u001b[1;33m.\u001b[0m\u001b[0mget_stderr\u001b[0m\u001b[1;33m(\u001b[0m\u001b[1;33m)\u001b[0m\u001b[1;33m.\u001b[0m\u001b[0mreplace\u001b[0m\u001b[1;33m(\u001b[0m\u001b[1;34m\"\\n\"\u001b[0m\u001b[1;33m,\u001b[0m \u001b[1;34m\" \"\u001b[0m\u001b[1;33m)\u001b[0m\u001b[1;33m\u001b[0m\u001b[1;33m\u001b[0m\u001b[0m\n\u001b[1;32m--> 236\u001b[1;33m             raise SubprocessError(\n\u001b[0m\u001b[0;32m    237\u001b[0m                 \u001b[1;34mf\"'{self._bin_path}' returned with exit code {exit_code}: \"\u001b[0m\u001b[1;33m\u001b[0m\u001b[1;33m\u001b[0m\u001b[0m\n\u001b[0;32m    238\u001b[0m                 \u001b[1;34mf\"{err_msg}\"\u001b[0m\u001b[1;33m\u001b[0m\u001b[1;33m\u001b[0m\u001b[0m\n",
      "\u001b[1;31mSubprocessError\u001b[0m: 'C:/Users/Rickman/Downloads/clustal-omega-1.2.2-win64/clustal-omega-1.2.2-win64/clustalo.exe' returned with exit code 1: FATAL: Sorry, I do not have permission to write to file 'C:\\Users\\Rickman\\AppData\\Local\\Temp\\tmpzfmi04sj.tree'. "
     ]
    }
   ],
   "source": [
    "alignment = clustalo.ClustalOmegaApp.align(binding_sites, bin_path='C:/Users/Rickman/Downloads/clustal-omega-1.2.2-win64/clustal-omega-1.2.2-win64/clustalo.exe', matrix=None)\n",
    "fig = plt.figure(figsize=(4.5, 4.0))\n",
    "ax = fig.add_subplot(111)\n",
    "graphics.plot_alignment_similarity_based(\n",
    "    ax, alignment[:,:20], labels=sources[:20], symbols_per_line=len(alignment)\n",
    ")\n",
    "# Source names in italic\n",
    "ax.set_yticklabels(ax.get_yticklabels(), fontdict={\"fontstyle\":\"italic\"})\n",
    "fig.tight_layout()"
   ]
  },
  {
   "cell_type": "markdown",
   "metadata": {},
   "source": [
    "Finally we can generate our sequence logo.\n",
    "\n"
   ]
  },
  {
   "cell_type": "code",
   "execution_count": 6,
   "metadata": {
    "jupyter": {
     "outputs_hidden": false
    }
   },
   "outputs": [
    {
     "ename": "NameError",
     "evalue": "name 'alignment' is not defined",
     "output_type": "error",
     "traceback": [
      "\u001b[1;31m---------------------------------------------------------------------------\u001b[0m",
      "\u001b[1;31mNameError\u001b[0m                                 Traceback (most recent call last)",
      "\u001b[1;32m<ipython-input-6-6df9a3bb936b>\u001b[0m in \u001b[0;36m<module>\u001b[1;34m\u001b[0m\n\u001b[0;32m      1\u001b[0m \u001b[0mfig\u001b[0m \u001b[1;33m=\u001b[0m \u001b[0mplt\u001b[0m\u001b[1;33m.\u001b[0m\u001b[0mfigure\u001b[0m\u001b[1;33m(\u001b[0m\u001b[0mfigsize\u001b[0m\u001b[1;33m=\u001b[0m\u001b[1;33m(\u001b[0m\u001b[1;36m8.0\u001b[0m\u001b[1;33m,\u001b[0m \u001b[1;36m3.0\u001b[0m\u001b[1;33m)\u001b[0m\u001b[1;33m)\u001b[0m\u001b[1;33m\u001b[0m\u001b[1;33m\u001b[0m\u001b[0m\n\u001b[0;32m      2\u001b[0m \u001b[0max\u001b[0m \u001b[1;33m=\u001b[0m \u001b[0mfig\u001b[0m\u001b[1;33m.\u001b[0m\u001b[0madd_subplot\u001b[0m\u001b[1;33m(\u001b[0m\u001b[1;36m111\u001b[0m\u001b[1;33m)\u001b[0m\u001b[1;33m\u001b[0m\u001b[1;33m\u001b[0m\u001b[0m\n\u001b[1;32m----> 3\u001b[1;33m \u001b[0mgraphics\u001b[0m\u001b[1;33m.\u001b[0m\u001b[0mplot_sequence_logo\u001b[0m\u001b[1;33m(\u001b[0m\u001b[0max\u001b[0m\u001b[1;33m,\u001b[0m \u001b[0malignment\u001b[0m\u001b[1;33m)\u001b[0m\u001b[1;33m\u001b[0m\u001b[1;33m\u001b[0m\u001b[0m\n\u001b[0m\u001b[0;32m      4\u001b[0m \u001b[0max\u001b[0m\u001b[1;33m.\u001b[0m\u001b[0mset_xticks\u001b[0m\u001b[1;33m(\u001b[0m\u001b[1;33m[\u001b[0m\u001b[1;36m5\u001b[0m\u001b[1;33m,\u001b[0m\u001b[1;36m10\u001b[0m\u001b[1;33m,\u001b[0m\u001b[1;36m15\u001b[0m\u001b[1;33m,\u001b[0m\u001b[1;36m20\u001b[0m\u001b[1;33m]\u001b[0m\u001b[1;33m)\u001b[0m\u001b[1;33m\u001b[0m\u001b[1;33m\u001b[0m\u001b[0m\n\u001b[0;32m      5\u001b[0m \u001b[0max\u001b[0m\u001b[1;33m.\u001b[0m\u001b[0mset_xlabel\u001b[0m\u001b[1;33m(\u001b[0m\u001b[1;34m\"Residue position\"\u001b[0m\u001b[1;33m)\u001b[0m\u001b[1;33m\u001b[0m\u001b[1;33m\u001b[0m\u001b[0m\n",
      "\u001b[1;31mNameError\u001b[0m: name 'alignment' is not defined"
     ]
    },
    {
     "data": {
      "image/png": "[encoded data removed]",
      "text/plain": [
       "<Figure size 576x216 with 1 Axes>"
      ]
     },
     "metadata": {
      "needs_background": "light"
     },
     "output_type": "display_data"
    }
   ],
   "source": [
    "fig = plt.figure(figsize=(8.0, 3.0))\n",
    "ax = fig.add_subplot(111)\n",
    "graphics.plot_sequence_logo(ax, alignment)\n",
    "ax.set_xticks([5,10,15,20])\n",
    "ax.set_xlabel(\"Residue position\")\n",
    "ax.set_ylabel(\"Bits\")\n",
    "# Only show left and bottom spine\n",
    "ax.spines[\"right\"].set_visible(False)\n",
    "ax.spines[\"top\"].set_visible(False)\n",
    "fig.tight_layout()\n",
    "# sphinx_gallery_thumbnail_number = 2\n",
    "\n",
    "plt.show()"
   ]
  }
 ],
 "metadata": {
  "kernelspec": {
   "display_name": "Python 3",
   "language": "python",
   "name": "python3"
  },
  "language_info": {
   "codemirror_mode": {
    "name": "ipython",
    "version": 3
   },
   "file_extension": ".py",
   "mimetype": "text/x-python",
   "name": "python",
   "nbconvert_exporter": "python",
   "pygments_lexer": "ipython3",
   "version": "3.8.6"
  }
 },
 "nbformat": 4,
 "nbformat_minor": 4
}
