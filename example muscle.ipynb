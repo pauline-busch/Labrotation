{
 "cells": [
  {
   "cell_type": "code",
   "execution_count": 1,
   "metadata": {
    "jupyter": {
     "outputs_hidden": false
    }
   },
   "outputs": [],
   "source": [
    "%matplotlib inline"
   ]
  },
  {
   "cell_type": "markdown",
   "metadata": {},
   "source": [
    "\n",
    "Conservation of *LexA* DNA-binding site\n",
    "=======================================\n",
    "\n",
    "The web page on sequence logos on\n",
    "`Wikipedia <https://en.wikipedia.org/wiki/Sequence_logo#Consensus_logo>`_\n",
    "shows the sequence logo of the *LexA*-binding motif of Gram-positive\n",
    "bacteria. In this example we look at the other side: What is the\n",
    "amino acid sequence logo of the DNA-binding site of the LexA repressor?\n",
    "\n",
    "We start by searching the NCBI Entrez database for *lexA* gene\n",
    "entries in the UniProtKB database and downloading them afterwards as\n",
    "GenPept file.\n",
    "In order to ensure that the file contains the desired entries, we check\n",
    "the entires for their definition (title) and source (species).\n"
   ]
  },
  {
   "cell_type": "code",
   "execution_count": 1,
   "metadata": {
    "jupyter": {
     "outputs_hidden": false
    }
   },
   "outputs": [
    {
     "name": "stdout",
     "output_type": "stream",
     "text": [
      "Definitions:\n",
      "RecName: Full=LexA repressor.\n",
      "RecName: Full=LexA repressor.\n",
      "RecName: Full=LexA repressor.\n",
      "RecName: Full=LexA repressor.\n",
      "RecName: Full=LexA repressor.\n",
      "RecName: Full=LexA repressor.\n",
      "RecName: Full=LexA repressor.\n",
      "RecName: Full=LexA repressor.\n",
      "RecName: Full=LexA repressor.\n",
      "RecName: Full=LexA repressor.\n",
      "RecName: Full=LexA repressor.\n",
      "RecName: Full=LexA repressor.\n",
      "RecName: Full=LexA repressor.\n",
      "RecName: Full=LexA repressor.\n",
      "RecName: Full=LexA repressor.\n",
      "RecName: Full=LexA repressor.\n",
      "RecName: Full=LexA repressor.\n",
      "RecName: Full=LexA repressor.\n",
      "RecName: Full=LexA repressor.\n",
      "RecName: Full=LexA repressor.\n",
      "\n",
      "Sources:\n",
      "Listeria welshimeri serovar 6b str. SLCC5334\n",
      "Leptospira interrogans serovar Copenhageni str. Fiocruz L1-130\n",
      "Salmonella enterica subsp. enterica serovar Typhimurium str. LT2\n",
      "Brucella melitensis bv. 1 str. 16M\n",
      "Fibrobacter succinogenes subsp. succinogenes S85\n",
      "Mycobacterium avium subsp. paratuberculosis K-10\n",
      "Pectobacterium carotovorum subsp. carotovorum PC1\n",
      "Listeria monocytogenes serotype 4b str. CLIP 80459\n",
      "Staphylococcus carnosus subsp. carnosus TM300\n",
      "Bifidobacterium longum subsp. infantis ATCC 15697 = JCM 1222 = DSM\n",
      "Lactobacillus fermentum IFO 3956\n",
      "Leptospira biflexa serovar Patoc strain 'Patoc 1 (Paris)'\n",
      "Leptospira biflexa serovar Patoc strain 'Patoc 1 (Ames)'\n",
      "Escherichia coli str. K-12 substr. DH10B\n",
      "Beijerinckia indica subsp. indica ATCC 9039\n",
      "Salmonella enterica subsp. arizonae serovar 62:z4,z23:-\n",
      "Clavibacter michiganensis subsp. sepedonicus\n",
      "Clavibacter michiganensis subsp. michiganensis NCPPB 382\n",
      "Yersinia enterocolitica subsp. enterocolitica 8081\n",
      "Klebsiella pneumoniae subsp. pneumoniae MGH 78578\n"
     ]
    }
   ],
   "source": [
    "# Code source: Patrick Kunzmann\n",
    "# License: BSD 3 clause\n",
    "\n",
    "import numpy as np\n",
    "import matplotlib.pyplot as plt\n",
    "import biotite.sequence as seq\n",
    "import biotite.sequence.io.fasta as fasta\n",
    "import biotite.sequence.io.genbank as gb\n",
    "import biotite.sequence.graphics as graphics\n",
    "import biotite.application.muscle as muscle\n",
    "import biotite.database.entrez as entrez\n",
    "# Search for protein products of LexA gene in UniProtKB/Swiss-Prot database\n",
    "query =   entrez.SimpleQuery(\"lexA\", \"Gene Name\") \\\n",
    "        & entrez.SimpleQuery(\"srcdb_swiss-prot\", \"Properties\")\n",
    "# Search for the first 200 hits\n",
    "# More than 200 UIDs are not recommended for the EFetch service\n",
    "# for a single fetch\n",
    "uids = entrez.search(query, db_name=\"protein\", number=200)\n",
    "file = entrez.fetch_single_file(\n",
    "    uids, None, db_name=\"protein\", ret_type=\"gp\"\n",
    ")\n",
    "# The file contains multiple concatenated GenPept files\n",
    "# -> Usage of MultiFile\n",
    "multi_file = gb.MultiFile.read(file)\n",
    "# Separate MultiFile into single GenBankFile instances\n",
    "files = [f for f in multi_file]\n",
    "print(\"Definitions:\")\n",
    "for file in files[:20]:\n",
    "    print(gb.get_definition(file))\n",
    "print()\n",
    "print(\"Sources:\")\n",
    "for file in files[:20]:\n",
    "    print(gb.get_source(file))"
   ]
  },
  {
   "cell_type": "markdown",
   "metadata": {},
   "source": [
    "The names of the sources are too long to be properly displayed later\n",
    "on. Therefore, we write a function that creates a proper abbreviation\n",
    "for a species name.\n",
    "\n"
   ]
  },
  {
   "cell_type": "code",
   "execution_count": 2,
   "metadata": {
    "jupyter": {
     "outputs_hidden": false
    }
   },
   "outputs": [
    {
     "name": "stdout",
     "output_type": "stream",
     "text": [
      "Sources:\n",
      "L. welshimeri\n",
      "L. interrogans\n",
      "S. enterica\n",
      "B. melitensis\n",
      "F. succinogenes\n",
      "M. avium\n",
      "P. carotovorum\n",
      "L. monocytogenes\n",
      "S. carnosus\n",
      "B. longum\n",
      "L. fermentum\n",
      "L. biflexa\n",
      "L. biflexa\n",
      "E. coli\n",
      "B. indica\n",
      "S. enterica\n",
      "C. michiganensis\n",
      "C. michiganensis\n",
      "Y. enterocolitica\n",
      "K. pneumoniae\n"
     ]
    }
   ],
   "source": [
    "def abbreviate(species):\n",
    "    # Remove possible brackets\n",
    "    species = species.replace(\"[\",\"\").replace(\"]\",\"\")\n",
    "    splitted_species= species.split()\n",
    "    return \"{:}. {:}\".format(splitted_species[0][0], splitted_species[1])\n",
    "\n",
    "print(\"Sources:\")\n",
    "all_sources = [abbreviate(gb.get_source(file)) for file in files]\n",
    "for source in all_sources[:20]:\n",
    "    print(source)"
   ]
  },
  {
   "cell_type": "markdown",
   "metadata": {},
   "source": [
    "Much better.\n",
    "For the alignment (required for sequence logo) we need to extract the\n",
    "slice of the sequence, that belongs to the DNA-binding site.\n",
    "Hence, we simply index the each sequence with the feature for the\n",
    "binding site and remove those sequences, that do not have a record\n",
    "specifying the required feature.\n",
    "\n",
    "But we have still an issue:\n",
    "Some species seem to be overrepresented, as they show up multiple\n",
    "times.\n",
    "The reason for this is that some species, like *M. tuberculosis*, are\n",
    "represented by multiple strains with (almost) equal *LexA* sequences.\n",
    "To reduce this bias, we only want each species to occur only a single\n",
    "time.\n",
    "So we use a set to store the source name of sequences we already\n",
    "listed and ignore all further occurences of that source species. \n",
    "\n"
   ]
  },
  {
   "cell_type": "code",
   "execution_count": 3,
   "metadata": {
    "jupyter": {
     "outputs_hidden": false
    },
    "scrolled": true
   },
   "outputs": [
    {
     "name": "stdout",
     "output_type": "stream",
     "text": [
      "Binding sites:\n",
      "VREIGEAVGLASSSTVHGHLA\n",
      "IREIGDEFGITAKGAYDHLK\n",
      "RAEIAQRLGFRSPNAAEEHLK\n",
      "FDEMKEALDLASKSGIHRLIT\n",
      "VREIGNHFDISSTNGVRSILA\n",
      "IREIGDAVGLTSTSSVAHQLR\n",
      "RAEIAQQLGFRSPNAAEEHLK\n",
      "VREIGEAVGLASSSTVHGHLA\n",
      "VREIGEAVGLASSSTVHGHLS\n",
      "FREIGNAAGLKSPSSVKHQLQ\n",
      "VREICGAVGLSSTSTVHGHIN\n",
      "IREIGDQFGITAKGAYDHLK\n",
      "RAEIAQRLGFRSPNAAEEHLK\n",
      "FDEMKEALDLRSKSGIHRLVM\n",
      "MREIGDAVGLASLSSVTHQLN\n",
      "RAEIAQRLGFRSPNAAEEHLK\n",
      "RAEIAQRLGFRSPNAAEEHLK\n",
      "RAEIAQKLGFKSANAAEEHLK\n",
      "RVEIAREIGFKSPNAAEEHLK\n",
      "RAEIAQKLGFKSANAAEEHLK\n"
     ]
    }
   ],
   "source": [
    "# List of sequences\n",
    "binding_sites = []\n",
    "# List of source species\n",
    "sources = []\n",
    "# Set for ignoring already listed sources\n",
    "listed_sources = set()\n",
    "for file, source in zip(files, all_sources):\n",
    "    if source in listed_sources:\n",
    "        # Ignore already listed species\n",
    "        continue\n",
    "    bind_feature = None\n",
    "    annot_seq = gb.get_annotated_sequence(\n",
    "        file, include_only=[\"Site\"], format=\"gp\"\n",
    "    )\n",
    "    # Find the feature for DNA-binding site\n",
    "    for feature in annot_seq.annotation:\n",
    "        # DNA binding site is a helix-turn-helix motif\n",
    "        if \"site_type\" in feature.qual \\\n",
    "            and feature.qual[\"site_type\"] == \"DNA binding\" \\\n",
    "            and \"H-T-H motif\" in feature.qual[\"note\"]:\n",
    "                bind_feature = feature\n",
    "    if bind_feature is not None:\n",
    "        # If the feature is found,\n",
    "        # get the sequence slice that is defined by the feature...\n",
    "        binding_sites.append(annot_seq[bind_feature])\n",
    "        # ...and save the respective source species\n",
    "        sources.append(source)\n",
    "        listed_sources.add(source)\n",
    "print(\"Binding sites:\")\n",
    "for site in binding_sites[:20]:\n",
    "    print(site)"
   ]
  },
  {
   "cell_type": "markdown",
   "metadata": {},
   "source": [
    "Now we can perform a multiple sequence alignment of the binding site\n",
    "sequences. Here we use Clustal Omega to perform this task.\n",
    "Since we have up to 200 sequences we visualize only a small portion of\n",
    "the alignment.\n",
    "\n"
   ]
  },
  {
   "cell_type": "code",
   "execution_count": 23,
   "metadata": {
    "jupyter": {
     "outputs_hidden": false
    },
    "scrolled": true
   },
   "outputs": [
    {
     "ename": "FileNotFoundError",
     "evalue": "[WinError 2] Das System kann die angegebene Datei nicht finden",
     "output_type": "error",
     "traceback": [
      "\u001b[1;31m---------------------------------------------------------------------------\u001b[0m",
      "\u001b[1;31mFileNotFoundError\u001b[0m                         Traceback (most recent call last)",
      "\u001b[1;32m<ipython-input-23-19a2dfcca745>\u001b[0m in \u001b[0;36m<module>\u001b[1;34m\u001b[0m\n\u001b[0;32m     20\u001b[0m \u001b[0mseq20\u001b[0m \u001b[1;33m=\u001b[0m \u001b[0mseq\u001b[0m\u001b[1;33m.\u001b[0m\u001b[0mProteinSequence\u001b[0m\u001b[1;33m(\u001b[0m\u001b[1;34m\"RAEIAQKLGFKSANAAEEHLK\"\u001b[0m\u001b[1;33m)\u001b[0m\u001b[1;33m\u001b[0m\u001b[1;33m\u001b[0m\u001b[0m\n\u001b[0;32m     21\u001b[0m \u001b[0mapp\u001b[0m \u001b[1;33m=\u001b[0m \u001b[0mmuscle\u001b[0m\u001b[1;33m.\u001b[0m\u001b[0mMuscleApp\u001b[0m\u001b[1;33m(\u001b[0m\u001b[1;33m[\u001b[0m\u001b[0mseq1\u001b[0m\u001b[1;33m,\u001b[0m \u001b[0mseq2\u001b[0m\u001b[1;33m,\u001b[0m \u001b[0mseq3\u001b[0m\u001b[1;33m,\u001b[0m \u001b[0mseq4\u001b[0m\u001b[1;33m,\u001b[0m \u001b[0mseq5\u001b[0m\u001b[1;33m,\u001b[0m \u001b[0mseq6\u001b[0m\u001b[1;33m,\u001b[0m \u001b[0mseq7\u001b[0m\u001b[1;33m,\u001b[0m \u001b[0mseq8\u001b[0m\u001b[1;33m,\u001b[0m \u001b[0mseq9\u001b[0m\u001b[1;33m,\u001b[0m \u001b[0mseq10\u001b[0m\u001b[1;33m,\u001b[0m \u001b[0mseq11\u001b[0m\u001b[1;33m,\u001b[0m \u001b[0mseq12\u001b[0m\u001b[1;33m,\u001b[0m \u001b[0mseq13\u001b[0m\u001b[1;33m,\u001b[0m \u001b[0mseq14\u001b[0m\u001b[1;33m,\u001b[0m \u001b[0mseq15\u001b[0m\u001b[1;33m,\u001b[0m \u001b[0mseq16\u001b[0m\u001b[1;33m,\u001b[0m \u001b[0mseq17\u001b[0m\u001b[1;33m,\u001b[0m \u001b[0mseq18\u001b[0m\u001b[1;33m,\u001b[0m \u001b[0mseq19\u001b[0m\u001b[1;33m,\u001b[0m \u001b[0mseq20\u001b[0m\u001b[1;33m]\u001b[0m\u001b[1;33m,\u001b[0m \u001b[0mbin_path\u001b[0m\u001b[1;33m=\u001b[0m\u001b[1;34m\"C:\\Python38\\Lib\\site-packages\\biotite\\application\\muscle\\app\"\u001b[0m\u001b[1;33m)\u001b[0m\u001b[1;33m\u001b[0m\u001b[1;33m\u001b[0m\u001b[0m\n\u001b[1;32m---> 22\u001b[1;33m \u001b[0mapp\u001b[0m\u001b[1;33m.\u001b[0m\u001b[0mstart\u001b[0m\u001b[1;33m(\u001b[0m\u001b[1;33m)\u001b[0m\u001b[1;33m\u001b[0m\u001b[1;33m\u001b[0m\u001b[0m\n\u001b[0m\u001b[0;32m     23\u001b[0m \u001b[0mapp\u001b[0m\u001b[1;33m.\u001b[0m\u001b[0mjoin\u001b[0m\u001b[1;33m(\u001b[0m\u001b[1;33m)\u001b[0m\u001b[1;33m\u001b[0m\u001b[1;33m\u001b[0m\u001b[0m\n\u001b[0;32m     24\u001b[0m \u001b[0malignment\u001b[0m \u001b[1;33m=\u001b[0m \u001b[0mapp\u001b[0m\u001b[1;33m.\u001b[0m\u001b[0mget_alignment\u001b[0m\u001b[1;33m(\u001b[0m\u001b[1;33m)\u001b[0m\u001b[1;33m\u001b[0m\u001b[1;33m\u001b[0m\u001b[0m\n",
      "\u001b[1;32mc:\\python38\\lib\\site-packages\\biotite\\application\\application.py\u001b[0m in \u001b[0;36mwrapper\u001b[1;34m(*args, **kwargs)\u001b[0m\n\u001b[0;32m     56\u001b[0m                     \u001b[1;34mf\"but {app_state} state is required\"\u001b[0m\u001b[1;33m\u001b[0m\u001b[1;33m\u001b[0m\u001b[0m\n\u001b[0;32m     57\u001b[0m                 )\n\u001b[1;32m---> 58\u001b[1;33m             \u001b[1;32mreturn\u001b[0m \u001b[0mfunc\u001b[0m\u001b[1;33m(\u001b[0m\u001b[1;33m*\u001b[0m\u001b[0margs\u001b[0m\u001b[1;33m,\u001b[0m \u001b[1;33m**\u001b[0m\u001b[0mkwargs\u001b[0m\u001b[1;33m)\u001b[0m\u001b[1;33m\u001b[0m\u001b[1;33m\u001b[0m\u001b[0m\n\u001b[0m\u001b[0;32m     59\u001b[0m         \u001b[1;32mreturn\u001b[0m \u001b[0mwrapper\u001b[0m\u001b[1;33m\u001b[0m\u001b[1;33m\u001b[0m\u001b[0m\n\u001b[0;32m     60\u001b[0m     \u001b[1;32mreturn\u001b[0m \u001b[0mdecorator\u001b[0m\u001b[1;33m\u001b[0m\u001b[1;33m\u001b[0m\u001b[0m\n",
      "\u001b[1;32mc:\\python38\\lib\\site-packages\\biotite\\application\\application.py\u001b[0m in \u001b[0;36mstart\u001b[1;34m(self)\u001b[0m\n\u001b[0;32m    111\u001b[0m         \u001b[0mThis\u001b[0m \u001b[0mcan\u001b[0m \u001b[0monly\u001b[0m \u001b[0mbe\u001b[0m \u001b[0mdone\u001b[0m \u001b[1;32mfrom\u001b[0m \u001b[0mthe\u001b[0m \u001b[1;33m*\u001b[0m\u001b[0mCREATED\u001b[0m\u001b[1;33m*\u001b[0m \u001b[0mstate\u001b[0m\u001b[1;33m.\u001b[0m\u001b[1;33m\u001b[0m\u001b[1;33m\u001b[0m\u001b[0m\n\u001b[0;32m    112\u001b[0m         \"\"\"\n\u001b[1;32m--> 113\u001b[1;33m         \u001b[0mself\u001b[0m\u001b[1;33m.\u001b[0m\u001b[0mrun\u001b[0m\u001b[1;33m(\u001b[0m\u001b[1;33m)\u001b[0m\u001b[1;33m\u001b[0m\u001b[1;33m\u001b[0m\u001b[0m\n\u001b[0m\u001b[0;32m    114\u001b[0m         \u001b[0mself\u001b[0m\u001b[1;33m.\u001b[0m\u001b[0m_start_time\u001b[0m \u001b[1;33m=\u001b[0m \u001b[0mtime\u001b[0m\u001b[1;33m.\u001b[0m\u001b[0mtime\u001b[0m\u001b[1;33m(\u001b[0m\u001b[1;33m)\u001b[0m\u001b[1;33m\u001b[0m\u001b[1;33m\u001b[0m\u001b[0m\n\u001b[0;32m    115\u001b[0m         \u001b[0mself\u001b[0m\u001b[1;33m.\u001b[0m\u001b[0m_state\u001b[0m \u001b[1;33m=\u001b[0m \u001b[0mAppState\u001b[0m\u001b[1;33m.\u001b[0m\u001b[0mRUNNING\u001b[0m\u001b[1;33m\u001b[0m\u001b[1;33m\u001b[0m\u001b[0m\n",
      "\u001b[1;32mc:\\python38\\lib\\site-packages\\biotite\\application\\muscle\\app.py\u001b[0m in \u001b[0;36mrun\u001b[1;34m(self)\u001b[0m\n\u001b[0;32m     82\u001b[0m             \u001b[0margs\u001b[0m \u001b[1;33m+=\u001b[0m \u001b[1;33m[\u001b[0m\u001b[1;34m\"-center\"\u001b[0m\u001b[1;33m,\u001b[0m \u001b[1;34m\"0.0\"\u001b[0m\u001b[1;33m]\u001b[0m\u001b[1;33m\u001b[0m\u001b[1;33m\u001b[0m\u001b[0m\n\u001b[0;32m     83\u001b[0m         \u001b[0mself\u001b[0m\u001b[1;33m.\u001b[0m\u001b[0mset_arguments\u001b[0m\u001b[1;33m(\u001b[0m\u001b[0margs\u001b[0m\u001b[1;33m)\u001b[0m\u001b[1;33m\u001b[0m\u001b[1;33m\u001b[0m\u001b[0m\n\u001b[1;32m---> 84\u001b[1;33m         \u001b[0msuper\u001b[0m\u001b[1;33m(\u001b[0m\u001b[1;33m)\u001b[0m\u001b[1;33m.\u001b[0m\u001b[0mrun\u001b[0m\u001b[1;33m(\u001b[0m\u001b[1;33m)\u001b[0m\u001b[1;33m\u001b[0m\u001b[1;33m\u001b[0m\u001b[0m\n\u001b[0m\u001b[0;32m     85\u001b[0m \u001b[1;33m\u001b[0m\u001b[0m\n\u001b[0;32m     86\u001b[0m     \u001b[1;32mdef\u001b[0m \u001b[0mevaluate\u001b[0m\u001b[1;33m(\u001b[0m\u001b[0mself\u001b[0m\u001b[1;33m)\u001b[0m\u001b[1;33m:\u001b[0m\u001b[1;33m\u001b[0m\u001b[1;33m\u001b[0m\u001b[0m\n",
      "\u001b[1;32mc:\\python38\\lib\\site-packages\\biotite\\application\\msaapp.py\u001b[0m in \u001b[0;36mrun\u001b[1;34m(self)\u001b[0m\n\u001b[0;32m    136\u001b[0m             \u001b[0mself\u001b[0m\u001b[1;33m.\u001b[0m\u001b[0m_matrix_file\u001b[0m\u001b[1;33m.\u001b[0m\u001b[0mwrite\u001b[0m\u001b[1;33m(\u001b[0m\u001b[0mstr\u001b[0m\u001b[1;33m(\u001b[0m\u001b[0mself\u001b[0m\u001b[1;33m.\u001b[0m\u001b[0m_matrix\u001b[0m\u001b[1;33m)\u001b[0m\u001b[1;33m)\u001b[0m\u001b[1;33m\u001b[0m\u001b[1;33m\u001b[0m\u001b[0m\n\u001b[0;32m    137\u001b[0m             \u001b[0mself\u001b[0m\u001b[1;33m.\u001b[0m\u001b[0m_matrix_file\u001b[0m\u001b[1;33m.\u001b[0m\u001b[0mflush\u001b[0m\u001b[1;33m(\u001b[0m\u001b[1;33m)\u001b[0m\u001b[1;33m\u001b[0m\u001b[1;33m\u001b[0m\u001b[0m\n\u001b[1;32m--> 138\u001b[1;33m         \u001b[0msuper\u001b[0m\u001b[1;33m(\u001b[0m\u001b[1;33m)\u001b[0m\u001b[1;33m.\u001b[0m\u001b[0mrun\u001b[0m\u001b[1;33m(\u001b[0m\u001b[1;33m)\u001b[0m\u001b[1;33m\u001b[0m\u001b[1;33m\u001b[0m\u001b[0m\n\u001b[0m\u001b[0;32m    139\u001b[0m \u001b[1;33m\u001b[0m\u001b[0m\n\u001b[0;32m    140\u001b[0m     \u001b[1;32mdef\u001b[0m \u001b[0mevaluate\u001b[0m\u001b[1;33m(\u001b[0m\u001b[0mself\u001b[0m\u001b[1;33m)\u001b[0m\u001b[1;33m:\u001b[0m\u001b[1;33m\u001b[0m\u001b[1;33m\u001b[0m\u001b[0m\n",
      "\u001b[1;32mc:\\python38\\lib\\site-packages\\biotite\\application\\localapp.py\u001b[0m in \u001b[0;36mrun\u001b[1;34m(self)\u001b[0m\n\u001b[0;32m    211\u001b[0m         \u001b[0mchdir\u001b[0m\u001b[1;33m(\u001b[0m\u001b[0mself\u001b[0m\u001b[1;33m.\u001b[0m\u001b[0m_exec_dir\u001b[0m\u001b[1;33m)\u001b[0m\u001b[1;33m\u001b[0m\u001b[1;33m\u001b[0m\u001b[0m\n\u001b[0;32m    212\u001b[0m         \u001b[0mself\u001b[0m\u001b[1;33m.\u001b[0m\u001b[0m_command\u001b[0m \u001b[1;33m=\u001b[0m \u001b[1;33m[\u001b[0m\u001b[0mself\u001b[0m\u001b[1;33m.\u001b[0m\u001b[0m_bin_path\u001b[0m\u001b[1;33m]\u001b[0m \u001b[1;33m+\u001b[0m \u001b[0mself\u001b[0m\u001b[1;33m.\u001b[0m\u001b[0m_options\u001b[0m \u001b[1;33m+\u001b[0m \u001b[0mself\u001b[0m\u001b[1;33m.\u001b[0m\u001b[0m_arguments\u001b[0m\u001b[1;33m\u001b[0m\u001b[1;33m\u001b[0m\u001b[0m\n\u001b[1;32m--> 213\u001b[1;33m         self._process = Popen(\n\u001b[0m\u001b[0;32m    214\u001b[0m             \u001b[0mself\u001b[0m\u001b[1;33m.\u001b[0m\u001b[0m_command\u001b[0m\u001b[1;33m,\u001b[0m \u001b[0mstdout\u001b[0m\u001b[1;33m=\u001b[0m\u001b[0mPIPE\u001b[0m\u001b[1;33m,\u001b[0m \u001b[0mstderr\u001b[0m\u001b[1;33m=\u001b[0m\u001b[0mPIPE\u001b[0m\u001b[1;33m,\u001b[0m \u001b[0mencoding\u001b[0m\u001b[1;33m=\u001b[0m\u001b[1;34m\"UTF-8\"\u001b[0m\u001b[1;33m\u001b[0m\u001b[1;33m\u001b[0m\u001b[0m\n\u001b[0;32m    215\u001b[0m         )\n",
      "\u001b[1;32mc:\\python38\\lib\\subprocess.py\u001b[0m in \u001b[0;36m__init__\u001b[1;34m(self, args, bufsize, executable, stdin, stdout, stderr, preexec_fn, close_fds, shell, cwd, env, universal_newlines, startupinfo, creationflags, restore_signals, start_new_session, pass_fds, encoding, errors, text)\u001b[0m\n\u001b[0;32m    852\u001b[0m                             encoding=encoding, errors=errors)\n\u001b[0;32m    853\u001b[0m \u001b[1;33m\u001b[0m\u001b[0m\n\u001b[1;32m--> 854\u001b[1;33m             self._execute_child(args, executable, preexec_fn, close_fds,\n\u001b[0m\u001b[0;32m    855\u001b[0m                                 \u001b[0mpass_fds\u001b[0m\u001b[1;33m,\u001b[0m \u001b[0mcwd\u001b[0m\u001b[1;33m,\u001b[0m \u001b[0menv\u001b[0m\u001b[1;33m,\u001b[0m\u001b[1;33m\u001b[0m\u001b[1;33m\u001b[0m\u001b[0m\n\u001b[0;32m    856\u001b[0m                                 \u001b[0mstartupinfo\u001b[0m\u001b[1;33m,\u001b[0m \u001b[0mcreationflags\u001b[0m\u001b[1;33m,\u001b[0m \u001b[0mshell\u001b[0m\u001b[1;33m,\u001b[0m\u001b[1;33m\u001b[0m\u001b[1;33m\u001b[0m\u001b[0m\n",
      "\u001b[1;32mc:\\python38\\lib\\subprocess.py\u001b[0m in \u001b[0;36m_execute_child\u001b[1;34m(self, args, executable, preexec_fn, close_fds, pass_fds, cwd, env, startupinfo, creationflags, shell, p2cread, p2cwrite, c2pread, c2pwrite, errread, errwrite, unused_restore_signals, unused_start_new_session)\u001b[0m\n\u001b[0;32m   1305\u001b[0m             \u001b[1;31m# Start the process\u001b[0m\u001b[1;33m\u001b[0m\u001b[1;33m\u001b[0m\u001b[1;33m\u001b[0m\u001b[0m\n\u001b[0;32m   1306\u001b[0m             \u001b[1;32mtry\u001b[0m\u001b[1;33m:\u001b[0m\u001b[1;33m\u001b[0m\u001b[1;33m\u001b[0m\u001b[0m\n\u001b[1;32m-> 1307\u001b[1;33m                 hp, ht, pid, tid = _winapi.CreateProcess(executable, args,\n\u001b[0m\u001b[0;32m   1308\u001b[0m                                          \u001b[1;31m# no special security\u001b[0m\u001b[1;33m\u001b[0m\u001b[1;33m\u001b[0m\u001b[1;33m\u001b[0m\u001b[0m\n\u001b[0;32m   1309\u001b[0m                                          \u001b[1;32mNone\u001b[0m\u001b[1;33m,\u001b[0m \u001b[1;32mNone\u001b[0m\u001b[1;33m,\u001b[0m\u001b[1;33m\u001b[0m\u001b[1;33m\u001b[0m\u001b[0m\n",
      "\u001b[1;31mFileNotFoundError\u001b[0m: [WinError 2] Das System kann die angegebene Datei nicht finden"
     ]
    }
   ],
   "source": [
    "seq1 = seq.ProteinSequence(\"VREIGEAVGLASSSTVHGHLA\")\n",
    "seq2 = seq.ProteinSequence(\"IREIGDEFGITAKGAYDHLK\")\n",
    "seq3 = seq.ProteinSequence(\"RAEIAQRLGFRSPNAAEEHLK\")\n",
    "seq4 = seq.ProteinSequence(\"FDEMKEALDLASKSGIHRLIT\")\n",
    "seq5 = seq.ProteinSequence(\"VREIGNHFDISSTNGVRSILA\")\n",
    "seq6 = seq.ProteinSequence(\"IREIGDAVGLTSTSSVAHQLR\")\n",
    "seq7 = seq.ProteinSequence(\"RAEIAQQLGFRSPNAAEEHLK\")\n",
    "seq8 = seq.ProteinSequence(\"VREIGEAVGLASSSTVHGHLA\")\n",
    "seq9 = seq.ProteinSequence(\"VREIGEAVGLASSSTVHGHLS\")\n",
    "seq10 = seq.ProteinSequence(\"FREIGNAAGLKSPSSVKHQLQ\")\n",
    "seq11 = seq.ProteinSequence(\"VREICGAVGLSSTSTVHGHIN\")\n",
    "seq12 = seq.ProteinSequence(\"IREIGDQFGITAKGAYDHLK\")\n",
    "seq13 = seq.ProteinSequence(\"RAEIAQRLGFRSPNAAEEHLK\")\n",
    "seq14 = seq.ProteinSequence(\"FDEMKEALDLRSKSGIHRLVM\")\n",
    "seq15 = seq.ProteinSequence(\"MREIGDAVGLASLSSVTHQLN\")\n",
    "seq16 = seq.ProteinSequence(\"RAEIAQRLGFRSPNAAEEHLK\")\n",
    "seq17 = seq.ProteinSequence(\"RAEIAQRLGFRSPNAAEEHLK\")\n",
    "seq18 = seq.ProteinSequence(\"RAEIAQKLGFKSANAAEEHLK\")\n",
    "seq19 = seq.ProteinSequence(\"RVEIAREIGFKSPNAAEEHLK\")\n",
    "seq20 = seq.ProteinSequence(\"RAEIAQKLGFKSANAAEEHLK\")\n",
    "app = muscle.MuscleApp([seq1, seq2, seq3, seq4, seq5, seq6, seq7, seq8, seq9, seq10, seq11, seq12, seq13, seq14, seq15, seq16, seq17, seq18, seq19, seq20], bin_path=\"C:\\Python38\\Lib\\site-packages\\biotite\\application\\muscle\\app\")\n",
    "app.start()\n",
    "app.join()\n",
    "alignment = app.get_alignment()\n",
    "print(alignment)"
   ]
  },
  {
   "cell_type": "markdown",
   "metadata": {},
   "source": [
    "Finally we can generate our sequence logo.\n",
    "\n"
   ]
  },
  {
   "cell_type": "code",
   "execution_count": 6,
   "metadata": {
    "jupyter": {
     "outputs_hidden": false
    }
   },
   "outputs": [
    {
     "ename": "NameError",
     "evalue": "name 'alignment' is not defined",
     "output_type": "error",
     "traceback": [
      "\u001b[1;31m---------------------------------------------------------------------------\u001b[0m",
      "\u001b[1;31mNameError\u001b[0m                                 Traceback (most recent call last)",
      "\u001b[1;32m<ipython-input-6-6df9a3bb936b>\u001b[0m in \u001b[0;36m<module>\u001b[1;34m\u001b[0m\n\u001b[0;32m      1\u001b[0m \u001b[0mfig\u001b[0m \u001b[1;33m=\u001b[0m \u001b[0mplt\u001b[0m\u001b[1;33m.\u001b[0m\u001b[0mfigure\u001b[0m\u001b[1;33m(\u001b[0m\u001b[0mfigsize\u001b[0m\u001b[1;33m=\u001b[0m\u001b[1;33m(\u001b[0m\u001b[1;36m8.0\u001b[0m\u001b[1;33m,\u001b[0m \u001b[1;36m3.0\u001b[0m\u001b[1;33m)\u001b[0m\u001b[1;33m)\u001b[0m\u001b[1;33m\u001b[0m\u001b[1;33m\u001b[0m\u001b[0m\n\u001b[0;32m      2\u001b[0m \u001b[0max\u001b[0m \u001b[1;33m=\u001b[0m \u001b[0mfig\u001b[0m\u001b[1;33m.\u001b[0m\u001b[0madd_subplot\u001b[0m\u001b[1;33m(\u001b[0m\u001b[1;36m111\u001b[0m\u001b[1;33m)\u001b[0m\u001b[1;33m\u001b[0m\u001b[1;33m\u001b[0m\u001b[0m\n\u001b[1;32m----> 3\u001b[1;33m \u001b[0mgraphics\u001b[0m\u001b[1;33m.\u001b[0m\u001b[0mplot_sequence_logo\u001b[0m\u001b[1;33m(\u001b[0m\u001b[0max\u001b[0m\u001b[1;33m,\u001b[0m \u001b[0malignment\u001b[0m\u001b[1;33m)\u001b[0m\u001b[1;33m\u001b[0m\u001b[1;33m\u001b[0m\u001b[0m\n\u001b[0m\u001b[0;32m      4\u001b[0m \u001b[0max\u001b[0m\u001b[1;33m.\u001b[0m\u001b[0mset_xticks\u001b[0m\u001b[1;33m(\u001b[0m\u001b[1;33m[\u001b[0m\u001b[1;36m5\u001b[0m\u001b[1;33m,\u001b[0m\u001b[1;36m10\u001b[0m\u001b[1;33m,\u001b[0m\u001b[1;36m15\u001b[0m\u001b[1;33m,\u001b[0m\u001b[1;36m20\u001b[0m\u001b[1;33m]\u001b[0m\u001b[1;33m)\u001b[0m\u001b[1;33m\u001b[0m\u001b[1;33m\u001b[0m\u001b[0m\n\u001b[0;32m      5\u001b[0m \u001b[0max\u001b[0m\u001b[1;33m.\u001b[0m\u001b[0mset_xlabel\u001b[0m\u001b[1;33m(\u001b[0m\u001b[1;34m\"Residue position\"\u001b[0m\u001b[1;33m)\u001b[0m\u001b[1;33m\u001b[0m\u001b[1;33m\u001b[0m\u001b[0m\n",
      "\u001b[1;31mNameError\u001b[0m: name 'alignment' is not defined"
     ]
    },
    {
     "data": {
      "image/png": "[encoded data removed]",
      "text/plain": [
       "<Figure size 576x216 with 1 Axes>"
      ]
     },
     "metadata": {
      "needs_background": "light"
     },
     "output_type": "display_data"
    }
   ],
   "source": [
    "fig = plt.figure(figsize=(8.0, 3.0))\n",
    "ax = fig.add_subplot(111)\n",
    "graphics.plot_sequence_logo(ax, alignment)\n",
    "ax.set_xticks([5,10,15,20])\n",
    "ax.set_xlabel(\"Residue position\")\n",
    "ax.set_ylabel(\"Bits\")\n",
    "# Only show left and bottom spine\n",
    "ax.spines[\"right\"].set_visible(False)\n",
    "ax.spines[\"top\"].set_visible(False)\n",
    "fig.tight_layout()\n",
    "# sphinx_gallery_thumbnail_number = 2\n",
    "\n",
    "plt.show()"
   ]
  }
 ],
 "metadata": {
  "kernelspec": {
   "display_name": "Python 3",
   "language": "python",
   "name": "python3"
  },
  "language_info": {
   "codemirror_mode": {
    "name": "ipython",
    "version": 3
   },
   "file_extension": ".py",
   "mimetype": "text/x-python",
   "name": "python",
   "nbconvert_exporter": "python",
   "pygments_lexer": "ipython3",
   "version": "3.8.6"
  }
 },
 "nbformat": 4,
 "nbformat_minor": 4
}
