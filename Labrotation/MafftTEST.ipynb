{
 "cells": [
  {
   "cell_type": "code",
   "execution_count": 1,
   "metadata": {},
   "outputs": [
    {
     "name": "stdout",
     "output_type": "stream",
     "text": [
      "[[ 0  0]\n",
      " [ 1 -1]\n",
      " [ 2  1]\n",
      " [ 3  2]\n",
      " [-1  3]\n",
      " [ 4  4]\n",
      " [ 5  5]\n",
      " [ 6  6]]\n"
     ]
    }
   ],
   "source": [
    "import numpy as np\n",
    "import biotite.sequence as seq\n",
    "import biotite.application.mafft as mafft\n",
    "import biotite.sequence.align as align\n",
    "\n",
    "alphabet = seq.Alphabet((\"foo\", \"bar\", 42))\n",
    "sequences = [seq.GeneralSequence(alphabet, sequence) for sequence in [\n",
    "    [\"foo\", \"bar\", 42, \"foo\", \"foo\", 42, 42],\n",
    "    [\"foo\", 42, \"foo\", \"bar\", \"foo\", 42, 42],\n",
    "]]\n",
    "matrix = align.SubstitutionMatrix(\n",
    "    alphabet, alphabet, np.array([\n",
    "        [ 100, -100, -100],\n",
    "        [-100,  100, -100],\n",
    "        [-100, -100,  100]\n",
    "    ])\n",
    ")\n",
    "alignment = mafft.MafftApp.align(sequences, bin_path='C:/Users/Rickman/Downloads/mafft-7.471-win64-signed/mafft-win/mafft.bat', matrix=matrix)\n",
    "# As the alphabet do not has characters as symbols\n",
    "# the alignment cannot be directly printed\n",
    "# However, we can print the trace\n",
    "print(alignment.trace)"
   ]
  },
  {
   "cell_type": "code",
   "execution_count": null,
   "metadata": {},
   "outputs": [],
   "source": []
  }
 ],
 "metadata": {
  "kernelspec": {
   "display_name": "Python 3",
   "language": "python",
   "name": "python3"
  },
  "language_info": {
   "codemirror_mode": {
    "name": "ipython",
    "version": 3
   },
   "file_extension": ".py",
   "mimetype": "text/x-python",
   "name": "python",
   "nbconvert_exporter": "python",
   "pygments_lexer": "ipython3",
   "version": "3.8.6"
  }
 },
 "nbformat": 4,
 "nbformat_minor": 4
}
